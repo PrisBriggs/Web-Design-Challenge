{
 "cells": [
  {
   "cell_type": "code",
   "execution_count": null,
   "id": "23417d21",
   "metadata": {},
   "outputs": [],
   "source": [
    "import os\n",
    "import pandas as pd\n",
    "from IPython.display import HTML"
   ]
  },
  {
   "cell_type": "code",
   "execution_count": null,
   "id": "1a3a13dd",
   "metadata": {},
   "outputs": [],
   "source": [
    "os.getcwd()"
   ]
  },
  {
   "cell_type": "code",
   "execution_count": null,
   "id": "870eb14c",
   "metadata": {},
   "outputs": [],
   "source": [
    "data_file = \"Resources\\cities.csv\""
   ]
  },
  {
   "cell_type": "code",
   "execution_count": null,
   "id": "b56705ba",
   "metadata": {},
   "outputs": [],
   "source": [
    "raw_df = pd.read_csv(data_file)\n",
    "raw_df"
   ]
  },
  {
   "cell_type": "code",
   "execution_count": null,
   "id": "23139858",
   "metadata": {},
   "outputs": [],
   "source": [
    "cities_html = raw_df.to_html(index=False)"
   ]
  },
  {
   "cell_type": "code",
   "execution_count": null,
   "id": "f9f97f4f",
   "metadata": {},
   "outputs": [],
   "source": [
    "type(cities_html)"
   ]
  },
  {
   "cell_type": "code",
   "execution_count": null,
   "id": "c45ce405",
   "metadata": {},
   "outputs": [],
   "source": [
    "# write html to file\n",
    "text_file = open(\"data.html\", \"w\")\n",
    "text_file.write(cities_html)\n",
    "text_file.close()"
   ]
  },
  {
   "cell_type": "code",
   "execution_count": null,
   "id": "0255b7b5",
   "metadata": {},
   "outputs": [],
   "source": [
    "HTML(raw_df.to_html(classes='table table-stripped'))"
   ]
  }
 ],
 "metadata": {
  "kernelspec": {
   "display_name": "PythonData",
   "language": "python",
   "name": "pythondata"
  },
  "language_info": {
   "codemirror_mode": {
    "name": "ipython",
    "version": 3
   },
   "file_extension": ".py",
   "mimetype": "text/x-python",
   "name": "python",
   "nbconvert_exporter": "python",
   "pygments_lexer": "ipython3",
   "version": "3.9.13"
  }
 },
 "nbformat": 4,
 "nbformat_minor": 5
}
